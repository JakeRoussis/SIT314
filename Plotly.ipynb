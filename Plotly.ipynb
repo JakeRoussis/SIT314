{
 "cells": [
  {
   "cell_type": "code",
   "execution_count": 135,
   "id": "03d2597f",
   "metadata": {},
   "outputs": [],
   "source": [
    "import chart_studio\n",
    "import chart_studio.plotly as py\n",
    "import pandas as pd\n",
    "from plotly.subplots import make_subplots\n",
    "import plotly.graph_objects as go"
   ]
  },
  {
   "cell_type": "code",
   "execution_count": 136,
   "id": "d8024fbc",
   "metadata": {},
   "outputs": [],
   "source": [
    "chart_studio.tools.set_credentials_file(username='jroussis', api_key='ZQOHdDkEQXN836dorbDD')\n",
    "chart_studio.tools.set_config_file(world_readable=True,\n",
    "                             sharing='public')"
   ]
  },
  {
   "cell_type": "code",
   "execution_count": 137,
   "id": "44d39574",
   "metadata": {},
   "outputs": [],
   "source": [
    "txtfile = []\n",
    "with open('measurements.txt') as f:\n",
    "    for line in f:\n",
    "        txtfile.append(line.strip())"
   ]
  },
  {
   "cell_type": "code",
   "execution_count": 138,
   "id": "b70bbc22",
   "metadata": {},
   "outputs": [
    {
     "data": {
      "text/plain": [
       "['15:13:25.547 -> Temperature: 19.80',\n",
       " '15:13:25.547 -> Humidity: 54.10',\n",
       " '15:13:27.543 -> Temperature: 19.80',\n",
       " '15:13:27.590 -> Humidity: 54.00',\n",
       " '15:13:29.586 -> Temperature: 20.00',\n",
       " '15:13:29.586 -> Humidity: 53.80',\n",
       " '15:13:31.583 -> Temperature: 20.00',\n",
       " '15:13:31.629 -> Humidity: 53.50',\n",
       " '15:13:33.625 -> Temperature: 20.10',\n",
       " '15:13:33.671 -> Humidity: 53.20',\n",
       " '15:13:35.666 -> Temperature: 20.10',\n",
       " '15:13:35.666 -> Humidity: 52.70',\n",
       " '15:13:37.662 -> Temperature: 20.10',\n",
       " '15:13:37.708 -> Humidity: 52.20',\n",
       " '15:13:39.703 -> Temperature: 20.10',\n",
       " '15:13:39.749 -> Humidity: 51.90',\n",
       " '15:13:41.745 -> Temperature: 20.20',\n",
       " '15:13:41.745 -> Humidity: 51.50',\n",
       " '15:13:43.740 -> Temperature: 20.20',\n",
       " '15:13:43.786 -> Humidity: 51.20',\n",
       " '15:13:45.781 -> Temperature: 20.20',\n",
       " '15:13:45.827 -> Humidity: 50.90',\n",
       " '15:13:47.821 -> Temperature: 20.30',\n",
       " '15:13:47.821 -> Humidity: 50.70',\n",
       " '15:13:49.814 -> Temperature: 20.30',\n",
       " '15:13:49.861 -> Humidity: 50.50',\n",
       " '15:13:51.856 -> Temperature: 20.40',\n",
       " '15:13:51.902 -> Humidity: 50.40',\n",
       " '15:13:53.898 -> Temperature: 20.40',\n",
       " '15:13:53.898 -> Humidity: 50.40',\n",
       " '15:13:55.933 -> Temperature: 20.40',\n",
       " '15:13:55.933 -> Humidity: 50.40',\n",
       " '15:13:57.925 -> Temperature: 20.50',\n",
       " '15:13:57.972 -> Humidity: 50.40',\n",
       " '15:13:59.968 -> Temperature: 20.50',\n",
       " '15:14:00.015 -> Humidity: 50.50',\n",
       " '15:14:02.006 -> Temperature: 20.50',\n",
       " '15:14:02.006 -> Humidity: 50.50',\n",
       " '15:14:03.999 -> Temperature: 20.60',\n",
       " '15:14:04.046 -> Humidity: 50.50',\n",
       " '15:14:06.040 -> Temperature: 20.60',\n",
       " '15:14:06.086 -> Humidity: 50.40',\n",
       " '15:14:08.081 -> Temperature: 20.60',\n",
       " '15:14:08.081 -> Humidity: 50.70',\n",
       " '15:14:10.080 -> Temperature: 20.60',\n",
       " '15:14:10.126 -> Humidity: 51.30',\n",
       " '15:14:12.118 -> Temperature: 20.70',\n",
       " '15:14:12.164 -> Humidity: 52.30',\n",
       " '15:14:14.160 -> Temperature: 20.70',\n",
       " '15:14:14.160 -> Humidity: 53.10',\n",
       " '15:14:16.154 -> Temperature: 20.70',\n",
       " '15:14:16.200 -> Humidity: 54.00',\n",
       " '15:14:18.194 -> Temperature: 20.80',\n",
       " '15:14:18.240 -> Humidity: 54.90',\n",
       " '15:14:20.237 -> Temperature: 20.80',\n",
       " '15:14:20.237 -> Humidity: 55.80',\n",
       " '15:14:22.232 -> Temperature: 20.90',\n",
       " '15:14:22.278 -> Humidity: 56.40',\n",
       " '15:14:24.272 -> Temperature: 20.90',\n",
       " '15:14:24.318 -> Humidity: 56.50',\n",
       " '15:14:26.312 -> Temperature: 21.00',\n",
       " '15:14:26.312 -> Humidity: 56.60',\n",
       " '15:14:28.351 -> Temperature: 21.00',\n",
       " '15:14:28.351 -> Humidity: 56.30',\n",
       " '15:14:30.343 -> Temperature: 21.00',\n",
       " '15:14:30.389 -> Humidity: 55.20',\n",
       " '15:14:32.380 -> Temperature: 21.00',\n",
       " '15:14:32.426 -> Humidity: 54.40',\n",
       " '15:14:34.419 -> Temperature: 21.10',\n",
       " '15:14:34.419 -> Humidity: 53.70',\n",
       " '15:14:36.455 -> Temperature: 21.10',\n",
       " '15:14:36.455 -> Humidity: 53.30',\n",
       " '15:14:38.441 -> Temperature: 21.10',\n",
       " '15:14:38.487 -> Humidity: 52.60',\n",
       " '15:14:40.478 -> Temperature: 21.10',\n",
       " '15:14:40.524 -> Humidity: 52.20',\n",
       " '15:14:42.511 -> Temperature: 21.10',\n",
       " '15:14:42.557 -> Humidity: 51.50',\n",
       " '15:14:44.543 -> Temperature: 21.10',\n",
       " '15:14:44.543 -> Humidity: 51.00',\n",
       " '15:14:46.578 -> Temperature: 21.10',\n",
       " '15:14:46.578 -> Humidity: 50.60',\n",
       " '15:14:48.610 -> Temperature: 21.20',\n",
       " '15:14:48.610 -> Humidity: 50.20',\n",
       " '15:14:50.598 -> Temperature: 21.20',\n",
       " '15:14:50.645 -> Humidity: 49.80',\n",
       " '15:14:52.630 -> Temperature: 21.20',\n",
       " '15:14:52.676 -> Humidity: 49.50',\n",
       " '15:14:54.661 -> Temperature: 21.20',\n",
       " '15:14:54.707 -> Humidity: 49.20',\n",
       " '15:14:56.698 -> Temperature: 21.10',\n",
       " '15:14:56.698 -> Humidity: 49.00',\n",
       " '15:14:58.734 -> Temperature: 21.20',\n",
       " '15:14:58.734 -> Humidity: 48.70',\n",
       " '15:15:00.767 -> Temperature: 21.10',\n",
       " '15:15:00.767 -> Humidity: 48.50',\n",
       " '15:15:02.757 -> Temperature: 21.20',\n",
       " '15:15:02.803 -> Humidity: 48.30',\n",
       " '15:15:04.789 -> Temperature: 21.10',\n",
       " '15:15:04.836 -> Humidity: 48.20',\n",
       " '15:15:06.823 -> Temperature: 21.20',\n",
       " '15:15:06.870 -> Humidity: 48.00',\n",
       " '15:15:08.860 -> Temperature: 21.10',\n",
       " '15:15:08.860 -> Humidity: 47.90',\n",
       " '15:15:10.895 -> Temperature: 21.20',\n",
       " '15:15:10.895 -> Humidity: 47.80',\n",
       " '15:15:12.888 -> Temperature: 21.20',\n",
       " '15:15:12.934 -> Humidity: 47.70',\n",
       " '15:15:14.923 -> Temperature: 21.20',\n",
       " '15:15:14.968 -> Humidity: 47.70',\n",
       " '15:15:16.959 -> Temperature: 21.20',\n",
       " '15:15:16.959 -> Humidity: 47.60',\n",
       " '15:15:18.991 -> Temperature: 21.20',\n",
       " '15:15:18.991 -> Humidity: 47.50']"
      ]
     },
     "execution_count": 138,
     "metadata": {},
     "output_type": "execute_result"
    }
   ],
   "source": [
    "txtfile"
   ]
  },
  {
   "cell_type": "code",
   "execution_count": 139,
   "id": "28423051",
   "metadata": {},
   "outputs": [],
   "source": [
    "time_array = []\n",
    "temp_array = []\n",
    "humidity_array = []\n",
    "for i in txtfile:\n",
    "    if 'Temperature' in i:\n",
    "        temp_array.append(i[29:])\n",
    "        time_array.append(i[0:8])\n",
    "    else:\n",
    "        humidity_array.append(i[26:].strip())"
   ]
  },
  {
   "cell_type": "code",
   "execution_count": 140,
   "id": "0c7dec76",
   "metadata": {},
   "outputs": [],
   "source": [
    "df = pd.DataFrame({'Temperature':temp_array, 'Humidity':humidity_array, 'Time':time_array})"
   ]
  },
  {
   "cell_type": "code",
   "execution_count": 141,
   "id": "7af6d2bd",
   "metadata": {},
   "outputs": [
    {
     "data": {
      "application/vnd.plotly.v1+json": {
       "config": {
        "plotlyServerURL": "https://plotly.com"
       },
       "data": [
        {
         "name": "Temperature",
         "type": "scatter",
         "x": [
          "15:13:25",
          "15:13:27",
          "15:13:29",
          "15:13:31",
          "15:13:33",
          "15:13:35",
          "15:13:37",
          "15:13:39",
          "15:13:41",
          "15:13:43",
          "15:13:45",
          "15:13:47",
          "15:13:49",
          "15:13:51",
          "15:13:53",
          "15:13:55",
          "15:13:57",
          "15:13:59",
          "15:14:02",
          "15:14:03",
          "15:14:06",
          "15:14:08",
          "15:14:10",
          "15:14:12",
          "15:14:14",
          "15:14:16",
          "15:14:18",
          "15:14:20",
          "15:14:22",
          "15:14:24",
          "15:14:26",
          "15:14:28",
          "15:14:30",
          "15:14:32",
          "15:14:34",
          "15:14:36",
          "15:14:38",
          "15:14:40",
          "15:14:42",
          "15:14:44",
          "15:14:46",
          "15:14:48",
          "15:14:50",
          "15:14:52",
          "15:14:54",
          "15:14:56",
          "15:14:58",
          "15:15:00",
          "15:15:02",
          "15:15:04",
          "15:15:06",
          "15:15:08",
          "15:15:10",
          "15:15:12",
          "15:15:14",
          "15:15:16",
          "15:15:18"
         ],
         "xaxis": "x",
         "y": [
          "19.80",
          "19.80",
          "20.00",
          "20.00",
          "20.10",
          "20.10",
          "20.10",
          "20.10",
          "20.20",
          "20.20",
          "20.20",
          "20.30",
          "20.30",
          "20.40",
          "20.40",
          "20.40",
          "20.50",
          "20.50",
          "20.50",
          "20.60",
          "20.60",
          "20.60",
          "20.60",
          "20.70",
          "20.70",
          "20.70",
          "20.80",
          "20.80",
          "20.90",
          "20.90",
          "21.00",
          "21.00",
          "21.00",
          "21.00",
          "21.10",
          "21.10",
          "21.10",
          "21.10",
          "21.10",
          "21.10",
          "21.10",
          "21.20",
          "21.20",
          "21.20",
          "21.20",
          "21.10",
          "21.20",
          "21.10",
          "21.20",
          "21.10",
          "21.20",
          "21.10",
          "21.20",
          "21.20",
          "21.20",
          "21.20",
          "21.20"
         ],
         "yaxis": "y"
        },
        {
         "name": "Humidity",
         "type": "scatter",
         "x": [
          "15:13:25",
          "15:13:27",
          "15:13:29",
          "15:13:31",
          "15:13:33",
          "15:13:35",
          "15:13:37",
          "15:13:39",
          "15:13:41",
          "15:13:43",
          "15:13:45",
          "15:13:47",
          "15:13:49",
          "15:13:51",
          "15:13:53",
          "15:13:55",
          "15:13:57",
          "15:13:59",
          "15:14:02",
          "15:14:03",
          "15:14:06",
          "15:14:08",
          "15:14:10",
          "15:14:12",
          "15:14:14",
          "15:14:16",
          "15:14:18",
          "15:14:20",
          "15:14:22",
          "15:14:24",
          "15:14:26",
          "15:14:28",
          "15:14:30",
          "15:14:32",
          "15:14:34",
          "15:14:36",
          "15:14:38",
          "15:14:40",
          "15:14:42",
          "15:14:44",
          "15:14:46",
          "15:14:48",
          "15:14:50",
          "15:14:52",
          "15:14:54",
          "15:14:56",
          "15:14:58",
          "15:15:00",
          "15:15:02",
          "15:15:04",
          "15:15:06",
          "15:15:08",
          "15:15:10",
          "15:15:12",
          "15:15:14",
          "15:15:16",
          "15:15:18"
         ],
         "xaxis": "x",
         "y": [
          "54.10",
          "54.00",
          "53.80",
          "53.50",
          "53.20",
          "52.70",
          "52.20",
          "51.90",
          "51.50",
          "51.20",
          "50.90",
          "50.70",
          "50.50",
          "50.40",
          "50.40",
          "50.40",
          "50.40",
          "50.50",
          "50.50",
          "50.50",
          "50.40",
          "50.70",
          "51.30",
          "52.30",
          "53.10",
          "54.00",
          "54.90",
          "55.80",
          "56.40",
          "56.50",
          "56.60",
          "56.30",
          "55.20",
          "54.40",
          "53.70",
          "53.30",
          "52.60",
          "52.20",
          "51.50",
          "51.00",
          "50.60",
          "50.20",
          "49.80",
          "49.50",
          "49.20",
          "49.00",
          "48.70",
          "48.50",
          "48.30",
          "48.20",
          "48.00",
          "47.90",
          "47.80",
          "47.70",
          "47.70",
          "47.60",
          "47.50"
         ],
         "yaxis": "y2"
        }
       ],
       "layout": {
        "template": {
         "data": {
          "bar": [
           {
            "error_x": {
             "color": "#2a3f5f"
            },
            "error_y": {
             "color": "#2a3f5f"
            },
            "marker": {
             "line": {
              "color": "#E5ECF6",
              "width": 0.5
             },
             "pattern": {
              "fillmode": "overlay",
              "size": 10,
              "solidity": 0.2
             }
            },
            "type": "bar"
           }
          ],
          "barpolar": [
           {
            "marker": {
             "line": {
              "color": "#E5ECF6",
              "width": 0.5
             },
             "pattern": {
              "fillmode": "overlay",
              "size": 10,
              "solidity": 0.2
             }
            },
            "type": "barpolar"
           }
          ],
          "carpet": [
           {
            "aaxis": {
             "endlinecolor": "#2a3f5f",
             "gridcolor": "white",
             "linecolor": "white",
             "minorgridcolor": "white",
             "startlinecolor": "#2a3f5f"
            },
            "baxis": {
             "endlinecolor": "#2a3f5f",
             "gridcolor": "white",
             "linecolor": "white",
             "minorgridcolor": "white",
             "startlinecolor": "#2a3f5f"
            },
            "type": "carpet"
           }
          ],
          "choropleth": [
           {
            "colorbar": {
             "outlinewidth": 0,
             "ticks": ""
            },
            "type": "choropleth"
           }
          ],
          "contour": [
           {
            "colorbar": {
             "outlinewidth": 0,
             "ticks": ""
            },
            "colorscale": [
             [
              0,
              "#0d0887"
             ],
             [
              0.1111111111111111,
              "#46039f"
             ],
             [
              0.2222222222222222,
              "#7201a8"
             ],
             [
              0.3333333333333333,
              "#9c179e"
             ],
             [
              0.4444444444444444,
              "#bd3786"
             ],
             [
              0.5555555555555556,
              "#d8576b"
             ],
             [
              0.6666666666666666,
              "#ed7953"
             ],
             [
              0.7777777777777778,
              "#fb9f3a"
             ],
             [
              0.8888888888888888,
              "#fdca26"
             ],
             [
              1,
              "#f0f921"
             ]
            ],
            "type": "contour"
           }
          ],
          "contourcarpet": [
           {
            "colorbar": {
             "outlinewidth": 0,
             "ticks": ""
            },
            "type": "contourcarpet"
           }
          ],
          "heatmap": [
           {
            "colorbar": {
             "outlinewidth": 0,
             "ticks": ""
            },
            "colorscale": [
             [
              0,
              "#0d0887"
             ],
             [
              0.1111111111111111,
              "#46039f"
             ],
             [
              0.2222222222222222,
              "#7201a8"
             ],
             [
              0.3333333333333333,
              "#9c179e"
             ],
             [
              0.4444444444444444,
              "#bd3786"
             ],
             [
              0.5555555555555556,
              "#d8576b"
             ],
             [
              0.6666666666666666,
              "#ed7953"
             ],
             [
              0.7777777777777778,
              "#fb9f3a"
             ],
             [
              0.8888888888888888,
              "#fdca26"
             ],
             [
              1,
              "#f0f921"
             ]
            ],
            "type": "heatmap"
           }
          ],
          "heatmapgl": [
           {
            "colorbar": {
             "outlinewidth": 0,
             "ticks": ""
            },
            "colorscale": [
             [
              0,
              "#0d0887"
             ],
             [
              0.1111111111111111,
              "#46039f"
             ],
             [
              0.2222222222222222,
              "#7201a8"
             ],
             [
              0.3333333333333333,
              "#9c179e"
             ],
             [
              0.4444444444444444,
              "#bd3786"
             ],
             [
              0.5555555555555556,
              "#d8576b"
             ],
             [
              0.6666666666666666,
              "#ed7953"
             ],
             [
              0.7777777777777778,
              "#fb9f3a"
             ],
             [
              0.8888888888888888,
              "#fdca26"
             ],
             [
              1,
              "#f0f921"
             ]
            ],
            "type": "heatmapgl"
           }
          ],
          "histogram": [
           {
            "marker": {
             "pattern": {
              "fillmode": "overlay",
              "size": 10,
              "solidity": 0.2
             }
            },
            "type": "histogram"
           }
          ],
          "histogram2d": [
           {
            "colorbar": {
             "outlinewidth": 0,
             "ticks": ""
            },
            "colorscale": [
             [
              0,
              "#0d0887"
             ],
             [
              0.1111111111111111,
              "#46039f"
             ],
             [
              0.2222222222222222,
              "#7201a8"
             ],
             [
              0.3333333333333333,
              "#9c179e"
             ],
             [
              0.4444444444444444,
              "#bd3786"
             ],
             [
              0.5555555555555556,
              "#d8576b"
             ],
             [
              0.6666666666666666,
              "#ed7953"
             ],
             [
              0.7777777777777778,
              "#fb9f3a"
             ],
             [
              0.8888888888888888,
              "#fdca26"
             ],
             [
              1,
              "#f0f921"
             ]
            ],
            "type": "histogram2d"
           }
          ],
          "histogram2dcontour": [
           {
            "colorbar": {
             "outlinewidth": 0,
             "ticks": ""
            },
            "colorscale": [
             [
              0,
              "#0d0887"
             ],
             [
              0.1111111111111111,
              "#46039f"
             ],
             [
              0.2222222222222222,
              "#7201a8"
             ],
             [
              0.3333333333333333,
              "#9c179e"
             ],
             [
              0.4444444444444444,
              "#bd3786"
             ],
             [
              0.5555555555555556,
              "#d8576b"
             ],
             [
              0.6666666666666666,
              "#ed7953"
             ],
             [
              0.7777777777777778,
              "#fb9f3a"
             ],
             [
              0.8888888888888888,
              "#fdca26"
             ],
             [
              1,
              "#f0f921"
             ]
            ],
            "type": "histogram2dcontour"
           }
          ],
          "mesh3d": [
           {
            "colorbar": {
             "outlinewidth": 0,
             "ticks": ""
            },
            "type": "mesh3d"
           }
          ],
          "parcoords": [
           {
            "line": {
             "colorbar": {
              "outlinewidth": 0,
              "ticks": ""
             }
            },
            "type": "parcoords"
           }
          ],
          "pie": [
           {
            "automargin": true,
            "type": "pie"
           }
          ],
          "scatter": [
           {
            "marker": {
             "colorbar": {
              "outlinewidth": 0,
              "ticks": ""
             }
            },
            "type": "scatter"
           }
          ],
          "scatter3d": [
           {
            "line": {
             "colorbar": {
              "outlinewidth": 0,
              "ticks": ""
             }
            },
            "marker": {
             "colorbar": {
              "outlinewidth": 0,
              "ticks": ""
             }
            },
            "type": "scatter3d"
           }
          ],
          "scattercarpet": [
           {
            "marker": {
             "colorbar": {
              "outlinewidth": 0,
              "ticks": ""
             }
            },
            "type": "scattercarpet"
           }
          ],
          "scattergeo": [
           {
            "marker": {
             "colorbar": {
              "outlinewidth": 0,
              "ticks": ""
             }
            },
            "type": "scattergeo"
           }
          ],
          "scattergl": [
           {
            "marker": {
             "colorbar": {
              "outlinewidth": 0,
              "ticks": ""
             }
            },
            "type": "scattergl"
           }
          ],
          "scattermapbox": [
           {
            "marker": {
             "colorbar": {
              "outlinewidth": 0,
              "ticks": ""
             }
            },
            "type": "scattermapbox"
           }
          ],
          "scatterpolar": [
           {
            "marker": {
             "colorbar": {
              "outlinewidth": 0,
              "ticks": ""
             }
            },
            "type": "scatterpolar"
           }
          ],
          "scatterpolargl": [
           {
            "marker": {
             "colorbar": {
              "outlinewidth": 0,
              "ticks": ""
             }
            },
            "type": "scatterpolargl"
           }
          ],
          "scatterternary": [
           {
            "marker": {
             "colorbar": {
              "outlinewidth": 0,
              "ticks": ""
             }
            },
            "type": "scatterternary"
           }
          ],
          "surface": [
           {
            "colorbar": {
             "outlinewidth": 0,
             "ticks": ""
            },
            "colorscale": [
             [
              0,
              "#0d0887"
             ],
             [
              0.1111111111111111,
              "#46039f"
             ],
             [
              0.2222222222222222,
              "#7201a8"
             ],
             [
              0.3333333333333333,
              "#9c179e"
             ],
             [
              0.4444444444444444,
              "#bd3786"
             ],
             [
              0.5555555555555556,
              "#d8576b"
             ],
             [
              0.6666666666666666,
              "#ed7953"
             ],
             [
              0.7777777777777778,
              "#fb9f3a"
             ],
             [
              0.8888888888888888,
              "#fdca26"
             ],
             [
              1,
              "#f0f921"
             ]
            ],
            "type": "surface"
           }
          ],
          "table": [
           {
            "cells": {
             "fill": {
              "color": "#EBF0F8"
             },
             "line": {
              "color": "white"
             }
            },
            "header": {
             "fill": {
              "color": "#C8D4E3"
             },
             "line": {
              "color": "white"
             }
            },
            "type": "table"
           }
          ]
         },
         "layout": {
          "annotationdefaults": {
           "arrowcolor": "#2a3f5f",
           "arrowhead": 0,
           "arrowwidth": 1
          },
          "autotypenumbers": "strict",
          "coloraxis": {
           "colorbar": {
            "outlinewidth": 0,
            "ticks": ""
           }
          },
          "colorscale": {
           "diverging": [
            [
             0,
             "#8e0152"
            ],
            [
             0.1,
             "#c51b7d"
            ],
            [
             0.2,
             "#de77ae"
            ],
            [
             0.3,
             "#f1b6da"
            ],
            [
             0.4,
             "#fde0ef"
            ],
            [
             0.5,
             "#f7f7f7"
            ],
            [
             0.6,
             "#e6f5d0"
            ],
            [
             0.7,
             "#b8e186"
            ],
            [
             0.8,
             "#7fbc41"
            ],
            [
             0.9,
             "#4d9221"
            ],
            [
             1,
             "#276419"
            ]
           ],
           "sequential": [
            [
             0,
             "#0d0887"
            ],
            [
             0.1111111111111111,
             "#46039f"
            ],
            [
             0.2222222222222222,
             "#7201a8"
            ],
            [
             0.3333333333333333,
             "#9c179e"
            ],
            [
             0.4444444444444444,
             "#bd3786"
            ],
            [
             0.5555555555555556,
             "#d8576b"
            ],
            [
             0.6666666666666666,
             "#ed7953"
            ],
            [
             0.7777777777777778,
             "#fb9f3a"
            ],
            [
             0.8888888888888888,
             "#fdca26"
            ],
            [
             1,
             "#f0f921"
            ]
           ],
           "sequentialminus": [
            [
             0,
             "#0d0887"
            ],
            [
             0.1111111111111111,
             "#46039f"
            ],
            [
             0.2222222222222222,
             "#7201a8"
            ],
            [
             0.3333333333333333,
             "#9c179e"
            ],
            [
             0.4444444444444444,
             "#bd3786"
            ],
            [
             0.5555555555555556,
             "#d8576b"
            ],
            [
             0.6666666666666666,
             "#ed7953"
            ],
            [
             0.7777777777777778,
             "#fb9f3a"
            ],
            [
             0.8888888888888888,
             "#fdca26"
            ],
            [
             1,
             "#f0f921"
            ]
           ]
          },
          "colorway": [
           "#636efa",
           "#EF553B",
           "#00cc96",
           "#ab63fa",
           "#FFA15A",
           "#19d3f3",
           "#FF6692",
           "#B6E880",
           "#FF97FF",
           "#FECB52"
          ],
          "font": {
           "color": "#2a3f5f"
          },
          "geo": {
           "bgcolor": "white",
           "lakecolor": "white",
           "landcolor": "#E5ECF6",
           "showlakes": true,
           "showland": true,
           "subunitcolor": "white"
          },
          "hoverlabel": {
           "align": "left"
          },
          "hovermode": "closest",
          "mapbox": {
           "style": "light"
          },
          "paper_bgcolor": "white",
          "plot_bgcolor": "#E5ECF6",
          "polar": {
           "angularaxis": {
            "gridcolor": "white",
            "linecolor": "white",
            "ticks": ""
           },
           "bgcolor": "#E5ECF6",
           "radialaxis": {
            "gridcolor": "white",
            "linecolor": "white",
            "ticks": ""
           }
          },
          "scene": {
           "xaxis": {
            "backgroundcolor": "#E5ECF6",
            "gridcolor": "white",
            "gridwidth": 2,
            "linecolor": "white",
            "showbackground": true,
            "ticks": "",
            "zerolinecolor": "white"
           },
           "yaxis": {
            "backgroundcolor": "#E5ECF6",
            "gridcolor": "white",
            "gridwidth": 2,
            "linecolor": "white",
            "showbackground": true,
            "ticks": "",
            "zerolinecolor": "white"
           },
           "zaxis": {
            "backgroundcolor": "#E5ECF6",
            "gridcolor": "white",
            "gridwidth": 2,
            "linecolor": "white",
            "showbackground": true,
            "ticks": "",
            "zerolinecolor": "white"
           }
          },
          "shapedefaults": {
           "line": {
            "color": "#2a3f5f"
           }
          },
          "ternary": {
           "aaxis": {
            "gridcolor": "white",
            "linecolor": "white",
            "ticks": ""
           },
           "baxis": {
            "gridcolor": "white",
            "linecolor": "white",
            "ticks": ""
           },
           "bgcolor": "#E5ECF6",
           "caxis": {
            "gridcolor": "white",
            "linecolor": "white",
            "ticks": ""
           }
          },
          "title": {
           "x": 0.05
          },
          "xaxis": {
           "automargin": true,
           "gridcolor": "white",
           "linecolor": "white",
           "ticks": "",
           "title": {
            "standoff": 15
           },
           "zerolinecolor": "white",
           "zerolinewidth": 2
          },
          "yaxis": {
           "automargin": true,
           "gridcolor": "white",
           "linecolor": "white",
           "ticks": "",
           "title": {
            "standoff": 15
           },
           "zerolinecolor": "white",
           "zerolinewidth": 2
          }
         }
        },
        "xaxis": {
         "anchor": "y",
         "domain": [
          0,
          0.94
         ]
        },
        "yaxis": {
         "anchor": "x",
         "domain": [
          0,
          1
         ]
        },
        "yaxis2": {
         "anchor": "x",
         "overlaying": "y",
         "side": "right"
        }
       }
      },
      "text/html": [
       "<div>                            <div id=\"2fe48838-d7dc-4c4c-b4ab-1d797571a3bd\" class=\"plotly-graph-div\" style=\"height:525px; width:100%;\"></div>            <script type=\"text/javascript\">                require([\"plotly\"], function(Plotly) {                    window.PLOTLYENV=window.PLOTLYENV || {};                                    if (document.getElementById(\"2fe48838-d7dc-4c4c-b4ab-1d797571a3bd\")) {                    Plotly.newPlot(                        \"2fe48838-d7dc-4c4c-b4ab-1d797571a3bd\",                        [{\"name\":\"Temperature\",\"type\":\"scatter\",\"x\":[\"15:13:25\",\"15:13:27\",\"15:13:29\",\"15:13:31\",\"15:13:33\",\"15:13:35\",\"15:13:37\",\"15:13:39\",\"15:13:41\",\"15:13:43\",\"15:13:45\",\"15:13:47\",\"15:13:49\",\"15:13:51\",\"15:13:53\",\"15:13:55\",\"15:13:57\",\"15:13:59\",\"15:14:02\",\"15:14:03\",\"15:14:06\",\"15:14:08\",\"15:14:10\",\"15:14:12\",\"15:14:14\",\"15:14:16\",\"15:14:18\",\"15:14:20\",\"15:14:22\",\"15:14:24\",\"15:14:26\",\"15:14:28\",\"15:14:30\",\"15:14:32\",\"15:14:34\",\"15:14:36\",\"15:14:38\",\"15:14:40\",\"15:14:42\",\"15:14:44\",\"15:14:46\",\"15:14:48\",\"15:14:50\",\"15:14:52\",\"15:14:54\",\"15:14:56\",\"15:14:58\",\"15:15:00\",\"15:15:02\",\"15:15:04\",\"15:15:06\",\"15:15:08\",\"15:15:10\",\"15:15:12\",\"15:15:14\",\"15:15:16\",\"15:15:18\"],\"xaxis\":\"x\",\"y\":[\"19.80\",\"19.80\",\"20.00\",\"20.00\",\"20.10\",\"20.10\",\"20.10\",\"20.10\",\"20.20\",\"20.20\",\"20.20\",\"20.30\",\"20.30\",\"20.40\",\"20.40\",\"20.40\",\"20.50\",\"20.50\",\"20.50\",\"20.60\",\"20.60\",\"20.60\",\"20.60\",\"20.70\",\"20.70\",\"20.70\",\"20.80\",\"20.80\",\"20.90\",\"20.90\",\"21.00\",\"21.00\",\"21.00\",\"21.00\",\"21.10\",\"21.10\",\"21.10\",\"21.10\",\"21.10\",\"21.10\",\"21.10\",\"21.20\",\"21.20\",\"21.20\",\"21.20\",\"21.10\",\"21.20\",\"21.10\",\"21.20\",\"21.10\",\"21.20\",\"21.10\",\"21.20\",\"21.20\",\"21.20\",\"21.20\",\"21.20\"],\"yaxis\":\"y\"},{\"name\":\"Humidity\",\"type\":\"scatter\",\"x\":[\"15:13:25\",\"15:13:27\",\"15:13:29\",\"15:13:31\",\"15:13:33\",\"15:13:35\",\"15:13:37\",\"15:13:39\",\"15:13:41\",\"15:13:43\",\"15:13:45\",\"15:13:47\",\"15:13:49\",\"15:13:51\",\"15:13:53\",\"15:13:55\",\"15:13:57\",\"15:13:59\",\"15:14:02\",\"15:14:03\",\"15:14:06\",\"15:14:08\",\"15:14:10\",\"15:14:12\",\"15:14:14\",\"15:14:16\",\"15:14:18\",\"15:14:20\",\"15:14:22\",\"15:14:24\",\"15:14:26\",\"15:14:28\",\"15:14:30\",\"15:14:32\",\"15:14:34\",\"15:14:36\",\"15:14:38\",\"15:14:40\",\"15:14:42\",\"15:14:44\",\"15:14:46\",\"15:14:48\",\"15:14:50\",\"15:14:52\",\"15:14:54\",\"15:14:56\",\"15:14:58\",\"15:15:00\",\"15:15:02\",\"15:15:04\",\"15:15:06\",\"15:15:08\",\"15:15:10\",\"15:15:12\",\"15:15:14\",\"15:15:16\",\"15:15:18\"],\"xaxis\":\"x\",\"y\":[\"54.10\",\"54.00\",\"53.80\",\"53.50\",\"53.20\",\"52.70\",\"52.20\",\"51.90\",\"51.50\",\"51.20\",\"50.90\",\"50.70\",\"50.50\",\"50.40\",\"50.40\",\"50.40\",\"50.40\",\"50.50\",\"50.50\",\"50.50\",\"50.40\",\"50.70\",\"51.30\",\"52.30\",\"53.10\",\"54.00\",\"54.90\",\"55.80\",\"56.40\",\"56.50\",\"56.60\",\"56.30\",\"55.20\",\"54.40\",\"53.70\",\"53.30\",\"52.60\",\"52.20\",\"51.50\",\"51.00\",\"50.60\",\"50.20\",\"49.80\",\"49.50\",\"49.20\",\"49.00\",\"48.70\",\"48.50\",\"48.30\",\"48.20\",\"48.00\",\"47.90\",\"47.80\",\"47.70\",\"47.70\",\"47.60\",\"47.50\"],\"yaxis\":\"y2\"}],                        {\"template\":{\"data\":{\"bar\":[{\"error_x\":{\"color\":\"#2a3f5f\"},\"error_y\":{\"color\":\"#2a3f5f\"},\"marker\":{\"line\":{\"color\":\"#E5ECF6\",\"width\":0.5},\"pattern\":{\"fillmode\":\"overlay\",\"size\":10,\"solidity\":0.2}},\"type\":\"bar\"}],\"barpolar\":[{\"marker\":{\"line\":{\"color\":\"#E5ECF6\",\"width\":0.5},\"pattern\":{\"fillmode\":\"overlay\",\"size\":10,\"solidity\":0.2}},\"type\":\"barpolar\"}],\"carpet\":[{\"aaxis\":{\"endlinecolor\":\"#2a3f5f\",\"gridcolor\":\"white\",\"linecolor\":\"white\",\"minorgridcolor\":\"white\",\"startlinecolor\":\"#2a3f5f\"},\"baxis\":{\"endlinecolor\":\"#2a3f5f\",\"gridcolor\":\"white\",\"linecolor\":\"white\",\"minorgridcolor\":\"white\",\"startlinecolor\":\"#2a3f5f\"},\"type\":\"carpet\"}],\"choropleth\":[{\"colorbar\":{\"outlinewidth\":0,\"ticks\":\"\"},\"type\":\"choropleth\"}],\"contour\":[{\"colorbar\":{\"outlinewidth\":0,\"ticks\":\"\"},\"colorscale\":[[0.0,\"#0d0887\"],[0.1111111111111111,\"#46039f\"],[0.2222222222222222,\"#7201a8\"],[0.3333333333333333,\"#9c179e\"],[0.4444444444444444,\"#bd3786\"],[0.5555555555555556,\"#d8576b\"],[0.6666666666666666,\"#ed7953\"],[0.7777777777777778,\"#fb9f3a\"],[0.8888888888888888,\"#fdca26\"],[1.0,\"#f0f921\"]],\"type\":\"contour\"}],\"contourcarpet\":[{\"colorbar\":{\"outlinewidth\":0,\"ticks\":\"\"},\"type\":\"contourcarpet\"}],\"heatmap\":[{\"colorbar\":{\"outlinewidth\":0,\"ticks\":\"\"},\"colorscale\":[[0.0,\"#0d0887\"],[0.1111111111111111,\"#46039f\"],[0.2222222222222222,\"#7201a8\"],[0.3333333333333333,\"#9c179e\"],[0.4444444444444444,\"#bd3786\"],[0.5555555555555556,\"#d8576b\"],[0.6666666666666666,\"#ed7953\"],[0.7777777777777778,\"#fb9f3a\"],[0.8888888888888888,\"#fdca26\"],[1.0,\"#f0f921\"]],\"type\":\"heatmap\"}],\"heatmapgl\":[{\"colorbar\":{\"outlinewidth\":0,\"ticks\":\"\"},\"colorscale\":[[0.0,\"#0d0887\"],[0.1111111111111111,\"#46039f\"],[0.2222222222222222,\"#7201a8\"],[0.3333333333333333,\"#9c179e\"],[0.4444444444444444,\"#bd3786\"],[0.5555555555555556,\"#d8576b\"],[0.6666666666666666,\"#ed7953\"],[0.7777777777777778,\"#fb9f3a\"],[0.8888888888888888,\"#fdca26\"],[1.0,\"#f0f921\"]],\"type\":\"heatmapgl\"}],\"histogram\":[{\"marker\":{\"pattern\":{\"fillmode\":\"overlay\",\"size\":10,\"solidity\":0.2}},\"type\":\"histogram\"}],\"histogram2d\":[{\"colorbar\":{\"outlinewidth\":0,\"ticks\":\"\"},\"colorscale\":[[0.0,\"#0d0887\"],[0.1111111111111111,\"#46039f\"],[0.2222222222222222,\"#7201a8\"],[0.3333333333333333,\"#9c179e\"],[0.4444444444444444,\"#bd3786\"],[0.5555555555555556,\"#d8576b\"],[0.6666666666666666,\"#ed7953\"],[0.7777777777777778,\"#fb9f3a\"],[0.8888888888888888,\"#fdca26\"],[1.0,\"#f0f921\"]],\"type\":\"histogram2d\"}],\"histogram2dcontour\":[{\"colorbar\":{\"outlinewidth\":0,\"ticks\":\"\"},\"colorscale\":[[0.0,\"#0d0887\"],[0.1111111111111111,\"#46039f\"],[0.2222222222222222,\"#7201a8\"],[0.3333333333333333,\"#9c179e\"],[0.4444444444444444,\"#bd3786\"],[0.5555555555555556,\"#d8576b\"],[0.6666666666666666,\"#ed7953\"],[0.7777777777777778,\"#fb9f3a\"],[0.8888888888888888,\"#fdca26\"],[1.0,\"#f0f921\"]],\"type\":\"histogram2dcontour\"}],\"mesh3d\":[{\"colorbar\":{\"outlinewidth\":0,\"ticks\":\"\"},\"type\":\"mesh3d\"}],\"parcoords\":[{\"line\":{\"colorbar\":{\"outlinewidth\":0,\"ticks\":\"\"}},\"type\":\"parcoords\"}],\"pie\":[{\"automargin\":true,\"type\":\"pie\"}],\"scatter\":[{\"marker\":{\"colorbar\":{\"outlinewidth\":0,\"ticks\":\"\"}},\"type\":\"scatter\"}],\"scatter3d\":[{\"line\":{\"colorbar\":{\"outlinewidth\":0,\"ticks\":\"\"}},\"marker\":{\"colorbar\":{\"outlinewidth\":0,\"ticks\":\"\"}},\"type\":\"scatter3d\"}],\"scattercarpet\":[{\"marker\":{\"colorbar\":{\"outlinewidth\":0,\"ticks\":\"\"}},\"type\":\"scattercarpet\"}],\"scattergeo\":[{\"marker\":{\"colorbar\":{\"outlinewidth\":0,\"ticks\":\"\"}},\"type\":\"scattergeo\"}],\"scattergl\":[{\"marker\":{\"colorbar\":{\"outlinewidth\":0,\"ticks\":\"\"}},\"type\":\"scattergl\"}],\"scattermapbox\":[{\"marker\":{\"colorbar\":{\"outlinewidth\":0,\"ticks\":\"\"}},\"type\":\"scattermapbox\"}],\"scatterpolar\":[{\"marker\":{\"colorbar\":{\"outlinewidth\":0,\"ticks\":\"\"}},\"type\":\"scatterpolar\"}],\"scatterpolargl\":[{\"marker\":{\"colorbar\":{\"outlinewidth\":0,\"ticks\":\"\"}},\"type\":\"scatterpolargl\"}],\"scatterternary\":[{\"marker\":{\"colorbar\":{\"outlinewidth\":0,\"ticks\":\"\"}},\"type\":\"scatterternary\"}],\"surface\":[{\"colorbar\":{\"outlinewidth\":0,\"ticks\":\"\"},\"colorscale\":[[0.0,\"#0d0887\"],[0.1111111111111111,\"#46039f\"],[0.2222222222222222,\"#7201a8\"],[0.3333333333333333,\"#9c179e\"],[0.4444444444444444,\"#bd3786\"],[0.5555555555555556,\"#d8576b\"],[0.6666666666666666,\"#ed7953\"],[0.7777777777777778,\"#fb9f3a\"],[0.8888888888888888,\"#fdca26\"],[1.0,\"#f0f921\"]],\"type\":\"surface\"}],\"table\":[{\"cells\":{\"fill\":{\"color\":\"#EBF0F8\"},\"line\":{\"color\":\"white\"}},\"header\":{\"fill\":{\"color\":\"#C8D4E3\"},\"line\":{\"color\":\"white\"}},\"type\":\"table\"}]},\"layout\":{\"annotationdefaults\":{\"arrowcolor\":\"#2a3f5f\",\"arrowhead\":0,\"arrowwidth\":1},\"autotypenumbers\":\"strict\",\"coloraxis\":{\"colorbar\":{\"outlinewidth\":0,\"ticks\":\"\"}},\"colorscale\":{\"diverging\":[[0,\"#8e0152\"],[0.1,\"#c51b7d\"],[0.2,\"#de77ae\"],[0.3,\"#f1b6da\"],[0.4,\"#fde0ef\"],[0.5,\"#f7f7f7\"],[0.6,\"#e6f5d0\"],[0.7,\"#b8e186\"],[0.8,\"#7fbc41\"],[0.9,\"#4d9221\"],[1,\"#276419\"]],\"sequential\":[[0.0,\"#0d0887\"],[0.1111111111111111,\"#46039f\"],[0.2222222222222222,\"#7201a8\"],[0.3333333333333333,\"#9c179e\"],[0.4444444444444444,\"#bd3786\"],[0.5555555555555556,\"#d8576b\"],[0.6666666666666666,\"#ed7953\"],[0.7777777777777778,\"#fb9f3a\"],[0.8888888888888888,\"#fdca26\"],[1.0,\"#f0f921\"]],\"sequentialminus\":[[0.0,\"#0d0887\"],[0.1111111111111111,\"#46039f\"],[0.2222222222222222,\"#7201a8\"],[0.3333333333333333,\"#9c179e\"],[0.4444444444444444,\"#bd3786\"],[0.5555555555555556,\"#d8576b\"],[0.6666666666666666,\"#ed7953\"],[0.7777777777777778,\"#fb9f3a\"],[0.8888888888888888,\"#fdca26\"],[1.0,\"#f0f921\"]]},\"colorway\":[\"#636efa\",\"#EF553B\",\"#00cc96\",\"#ab63fa\",\"#FFA15A\",\"#19d3f3\",\"#FF6692\",\"#B6E880\",\"#FF97FF\",\"#FECB52\"],\"font\":{\"color\":\"#2a3f5f\"},\"geo\":{\"bgcolor\":\"white\",\"lakecolor\":\"white\",\"landcolor\":\"#E5ECF6\",\"showlakes\":true,\"showland\":true,\"subunitcolor\":\"white\"},\"hoverlabel\":{\"align\":\"left\"},\"hovermode\":\"closest\",\"mapbox\":{\"style\":\"light\"},\"paper_bgcolor\":\"white\",\"plot_bgcolor\":\"#E5ECF6\",\"polar\":{\"angularaxis\":{\"gridcolor\":\"white\",\"linecolor\":\"white\",\"ticks\":\"\"},\"bgcolor\":\"#E5ECF6\",\"radialaxis\":{\"gridcolor\":\"white\",\"linecolor\":\"white\",\"ticks\":\"\"}},\"scene\":{\"xaxis\":{\"backgroundcolor\":\"#E5ECF6\",\"gridcolor\":\"white\",\"gridwidth\":2,\"linecolor\":\"white\",\"showbackground\":true,\"ticks\":\"\",\"zerolinecolor\":\"white\"},\"yaxis\":{\"backgroundcolor\":\"#E5ECF6\",\"gridcolor\":\"white\",\"gridwidth\":2,\"linecolor\":\"white\",\"showbackground\":true,\"ticks\":\"\",\"zerolinecolor\":\"white\"},\"zaxis\":{\"backgroundcolor\":\"#E5ECF6\",\"gridcolor\":\"white\",\"gridwidth\":2,\"linecolor\":\"white\",\"showbackground\":true,\"ticks\":\"\",\"zerolinecolor\":\"white\"}},\"shapedefaults\":{\"line\":{\"color\":\"#2a3f5f\"}},\"ternary\":{\"aaxis\":{\"gridcolor\":\"white\",\"linecolor\":\"white\",\"ticks\":\"\"},\"baxis\":{\"gridcolor\":\"white\",\"linecolor\":\"white\",\"ticks\":\"\"},\"bgcolor\":\"#E5ECF6\",\"caxis\":{\"gridcolor\":\"white\",\"linecolor\":\"white\",\"ticks\":\"\"}},\"title\":{\"x\":0.05},\"xaxis\":{\"automargin\":true,\"gridcolor\":\"white\",\"linecolor\":\"white\",\"ticks\":\"\",\"title\":{\"standoff\":15},\"zerolinecolor\":\"white\",\"zerolinewidth\":2},\"yaxis\":{\"automargin\":true,\"gridcolor\":\"white\",\"linecolor\":\"white\",\"ticks\":\"\",\"title\":{\"standoff\":15},\"zerolinecolor\":\"white\",\"zerolinewidth\":2}}},\"xaxis\":{\"anchor\":\"y\",\"domain\":[0.0,0.94]},\"yaxis\":{\"anchor\":\"x\",\"domain\":[0.0,1.0]},\"yaxis2\":{\"anchor\":\"x\",\"overlaying\":\"y\",\"side\":\"right\"}},                        {\"responsive\": true}                    ).then(function(){\n",
       "                            \n",
       "var gd = document.getElementById('2fe48838-d7dc-4c4c-b4ab-1d797571a3bd');\n",
       "var x = new MutationObserver(function (mutations, observer) {{\n",
       "        var display = window.getComputedStyle(gd).display;\n",
       "        if (!display || display === 'none') {{\n",
       "            console.log([gd, 'removed!']);\n",
       "            Plotly.purge(gd);\n",
       "            observer.disconnect();\n",
       "        }}\n",
       "}});\n",
       "\n",
       "// Listen for the removal of the full notebook cells\n",
       "var notebookContainer = gd.closest('#notebook-container');\n",
       "if (notebookContainer) {{\n",
       "    x.observe(notebookContainer, {childList: true});\n",
       "}}\n",
       "\n",
       "// Listen for the clearing of the current output cell\n",
       "var outputEl = gd.closest('.output');\n",
       "if (outputEl) {{\n",
       "    x.observe(outputEl, {childList: true});\n",
       "}}\n",
       "\n",
       "                        })                };                });            </script>        </div>"
      ]
     },
     "metadata": {},
     "output_type": "display_data"
    }
   ],
   "source": [
    "fig = make_subplots(specs=[[{'secondary_y': True}]])\n",
    "fig.add_trace(\n",
    "    go.Scatter(x = df['Time'], y = df['Temperature'],\n",
    "                  name='Temperature'),\n",
    "    secondary_y = False\n",
    ")\n",
    "\n",
    "fig.add_trace(\n",
    "    go.Scatter(x = df['Time'], y = df['Humidity'],\n",
    "                  name='Humidity'),\n",
    "    secondary_y = True\n",
    ")"
   ]
  },
  {
   "cell_type": "code",
   "execution_count": 142,
   "id": "05186d3a",
   "metadata": {},
   "outputs": [
    {
     "data": {
      "application/vnd.plotly.v1+json": {
       "config": {
        "plotlyServerURL": "https://plotly.com"
       },
       "data": [
        {
         "name": "Temperature",
         "type": "scatter",
         "x": [
          "15:13:25",
          "15:13:27",
          "15:13:29",
          "15:13:31",
          "15:13:33",
          "15:13:35",
          "15:13:37",
          "15:13:39",
          "15:13:41",
          "15:13:43",
          "15:13:45",
          "15:13:47",
          "15:13:49",
          "15:13:51",
          "15:13:53",
          "15:13:55",
          "15:13:57",
          "15:13:59",
          "15:14:02",
          "15:14:03",
          "15:14:06",
          "15:14:08",
          "15:14:10",
          "15:14:12",
          "15:14:14",
          "15:14:16",
          "15:14:18",
          "15:14:20",
          "15:14:22",
          "15:14:24",
          "15:14:26",
          "15:14:28",
          "15:14:30",
          "15:14:32",
          "15:14:34",
          "15:14:36",
          "15:14:38",
          "15:14:40",
          "15:14:42",
          "15:14:44",
          "15:14:46",
          "15:14:48",
          "15:14:50",
          "15:14:52",
          "15:14:54",
          "15:14:56",
          "15:14:58",
          "15:15:00",
          "15:15:02",
          "15:15:04",
          "15:15:06",
          "15:15:08",
          "15:15:10",
          "15:15:12",
          "15:15:14",
          "15:15:16",
          "15:15:18"
         ],
         "xaxis": "x",
         "y": [
          "19.80",
          "19.80",
          "20.00",
          "20.00",
          "20.10",
          "20.10",
          "20.10",
          "20.10",
          "20.20",
          "20.20",
          "20.20",
          "20.30",
          "20.30",
          "20.40",
          "20.40",
          "20.40",
          "20.50",
          "20.50",
          "20.50",
          "20.60",
          "20.60",
          "20.60",
          "20.60",
          "20.70",
          "20.70",
          "20.70",
          "20.80",
          "20.80",
          "20.90",
          "20.90",
          "21.00",
          "21.00",
          "21.00",
          "21.00",
          "21.10",
          "21.10",
          "21.10",
          "21.10",
          "21.10",
          "21.10",
          "21.10",
          "21.20",
          "21.20",
          "21.20",
          "21.20",
          "21.10",
          "21.20",
          "21.10",
          "21.20",
          "21.10",
          "21.20",
          "21.10",
          "21.20",
          "21.20",
          "21.20",
          "21.20",
          "21.20"
         ],
         "yaxis": "y"
        },
        {
         "name": "Humidity",
         "type": "scatter",
         "x": [
          "15:13:25",
          "15:13:27",
          "15:13:29",
          "15:13:31",
          "15:13:33",
          "15:13:35",
          "15:13:37",
          "15:13:39",
          "15:13:41",
          "15:13:43",
          "15:13:45",
          "15:13:47",
          "15:13:49",
          "15:13:51",
          "15:13:53",
          "15:13:55",
          "15:13:57",
          "15:13:59",
          "15:14:02",
          "15:14:03",
          "15:14:06",
          "15:14:08",
          "15:14:10",
          "15:14:12",
          "15:14:14",
          "15:14:16",
          "15:14:18",
          "15:14:20",
          "15:14:22",
          "15:14:24",
          "15:14:26",
          "15:14:28",
          "15:14:30",
          "15:14:32",
          "15:14:34",
          "15:14:36",
          "15:14:38",
          "15:14:40",
          "15:14:42",
          "15:14:44",
          "15:14:46",
          "15:14:48",
          "15:14:50",
          "15:14:52",
          "15:14:54",
          "15:14:56",
          "15:14:58",
          "15:15:00",
          "15:15:02",
          "15:15:04",
          "15:15:06",
          "15:15:08",
          "15:15:10",
          "15:15:12",
          "15:15:14",
          "15:15:16",
          "15:15:18"
         ],
         "xaxis": "x",
         "y": [
          "54.10",
          "54.00",
          "53.80",
          "53.50",
          "53.20",
          "52.70",
          "52.20",
          "51.90",
          "51.50",
          "51.20",
          "50.90",
          "50.70",
          "50.50",
          "50.40",
          "50.40",
          "50.40",
          "50.40",
          "50.50",
          "50.50",
          "50.50",
          "50.40",
          "50.70",
          "51.30",
          "52.30",
          "53.10",
          "54.00",
          "54.90",
          "55.80",
          "56.40",
          "56.50",
          "56.60",
          "56.30",
          "55.20",
          "54.40",
          "53.70",
          "53.30",
          "52.60",
          "52.20",
          "51.50",
          "51.00",
          "50.60",
          "50.20",
          "49.80",
          "49.50",
          "49.20",
          "49.00",
          "48.70",
          "48.50",
          "48.30",
          "48.20",
          "48.00",
          "47.90",
          "47.80",
          "47.70",
          "47.70",
          "47.60",
          "47.50"
         ],
         "yaxis": "y2"
        }
       ],
       "layout": {
        "template": {
         "data": {
          "bar": [
           {
            "error_x": {
             "color": "#2a3f5f"
            },
            "error_y": {
             "color": "#2a3f5f"
            },
            "marker": {
             "line": {
              "color": "#E5ECF6",
              "width": 0.5
             },
             "pattern": {
              "fillmode": "overlay",
              "size": 10,
              "solidity": 0.2
             }
            },
            "type": "bar"
           }
          ],
          "barpolar": [
           {
            "marker": {
             "line": {
              "color": "#E5ECF6",
              "width": 0.5
             },
             "pattern": {
              "fillmode": "overlay",
              "size": 10,
              "solidity": 0.2
             }
            },
            "type": "barpolar"
           }
          ],
          "carpet": [
           {
            "aaxis": {
             "endlinecolor": "#2a3f5f",
             "gridcolor": "white",
             "linecolor": "white",
             "minorgridcolor": "white",
             "startlinecolor": "#2a3f5f"
            },
            "baxis": {
             "endlinecolor": "#2a3f5f",
             "gridcolor": "white",
             "linecolor": "white",
             "minorgridcolor": "white",
             "startlinecolor": "#2a3f5f"
            },
            "type": "carpet"
           }
          ],
          "choropleth": [
           {
            "colorbar": {
             "outlinewidth": 0,
             "ticks": ""
            },
            "type": "choropleth"
           }
          ],
          "contour": [
           {
            "colorbar": {
             "outlinewidth": 0,
             "ticks": ""
            },
            "colorscale": [
             [
              0,
              "#0d0887"
             ],
             [
              0.1111111111111111,
              "#46039f"
             ],
             [
              0.2222222222222222,
              "#7201a8"
             ],
             [
              0.3333333333333333,
              "#9c179e"
             ],
             [
              0.4444444444444444,
              "#bd3786"
             ],
             [
              0.5555555555555556,
              "#d8576b"
             ],
             [
              0.6666666666666666,
              "#ed7953"
             ],
             [
              0.7777777777777778,
              "#fb9f3a"
             ],
             [
              0.8888888888888888,
              "#fdca26"
             ],
             [
              1,
              "#f0f921"
             ]
            ],
            "type": "contour"
           }
          ],
          "contourcarpet": [
           {
            "colorbar": {
             "outlinewidth": 0,
             "ticks": ""
            },
            "type": "contourcarpet"
           }
          ],
          "heatmap": [
           {
            "colorbar": {
             "outlinewidth": 0,
             "ticks": ""
            },
            "colorscale": [
             [
              0,
              "#0d0887"
             ],
             [
              0.1111111111111111,
              "#46039f"
             ],
             [
              0.2222222222222222,
              "#7201a8"
             ],
             [
              0.3333333333333333,
              "#9c179e"
             ],
             [
              0.4444444444444444,
              "#bd3786"
             ],
             [
              0.5555555555555556,
              "#d8576b"
             ],
             [
              0.6666666666666666,
              "#ed7953"
             ],
             [
              0.7777777777777778,
              "#fb9f3a"
             ],
             [
              0.8888888888888888,
              "#fdca26"
             ],
             [
              1,
              "#f0f921"
             ]
            ],
            "type": "heatmap"
           }
          ],
          "heatmapgl": [
           {
            "colorbar": {
             "outlinewidth": 0,
             "ticks": ""
            },
            "colorscale": [
             [
              0,
              "#0d0887"
             ],
             [
              0.1111111111111111,
              "#46039f"
             ],
             [
              0.2222222222222222,
              "#7201a8"
             ],
             [
              0.3333333333333333,
              "#9c179e"
             ],
             [
              0.4444444444444444,
              "#bd3786"
             ],
             [
              0.5555555555555556,
              "#d8576b"
             ],
             [
              0.6666666666666666,
              "#ed7953"
             ],
             [
              0.7777777777777778,
              "#fb9f3a"
             ],
             [
              0.8888888888888888,
              "#fdca26"
             ],
             [
              1,
              "#f0f921"
             ]
            ],
            "type": "heatmapgl"
           }
          ],
          "histogram": [
           {
            "marker": {
             "pattern": {
              "fillmode": "overlay",
              "size": 10,
              "solidity": 0.2
             }
            },
            "type": "histogram"
           }
          ],
          "histogram2d": [
           {
            "colorbar": {
             "outlinewidth": 0,
             "ticks": ""
            },
            "colorscale": [
             [
              0,
              "#0d0887"
             ],
             [
              0.1111111111111111,
              "#46039f"
             ],
             [
              0.2222222222222222,
              "#7201a8"
             ],
             [
              0.3333333333333333,
              "#9c179e"
             ],
             [
              0.4444444444444444,
              "#bd3786"
             ],
             [
              0.5555555555555556,
              "#d8576b"
             ],
             [
              0.6666666666666666,
              "#ed7953"
             ],
             [
              0.7777777777777778,
              "#fb9f3a"
             ],
             [
              0.8888888888888888,
              "#fdca26"
             ],
             [
              1,
              "#f0f921"
             ]
            ],
            "type": "histogram2d"
           }
          ],
          "histogram2dcontour": [
           {
            "colorbar": {
             "outlinewidth": 0,
             "ticks": ""
            },
            "colorscale": [
             [
              0,
              "#0d0887"
             ],
             [
              0.1111111111111111,
              "#46039f"
             ],
             [
              0.2222222222222222,
              "#7201a8"
             ],
             [
              0.3333333333333333,
              "#9c179e"
             ],
             [
              0.4444444444444444,
              "#bd3786"
             ],
             [
              0.5555555555555556,
              "#d8576b"
             ],
             [
              0.6666666666666666,
              "#ed7953"
             ],
             [
              0.7777777777777778,
              "#fb9f3a"
             ],
             [
              0.8888888888888888,
              "#fdca26"
             ],
             [
              1,
              "#f0f921"
             ]
            ],
            "type": "histogram2dcontour"
           }
          ],
          "mesh3d": [
           {
            "colorbar": {
             "outlinewidth": 0,
             "ticks": ""
            },
            "type": "mesh3d"
           }
          ],
          "parcoords": [
           {
            "line": {
             "colorbar": {
              "outlinewidth": 0,
              "ticks": ""
             }
            },
            "type": "parcoords"
           }
          ],
          "pie": [
           {
            "automargin": true,
            "type": "pie"
           }
          ],
          "scatter": [
           {
            "marker": {
             "colorbar": {
              "outlinewidth": 0,
              "ticks": ""
             }
            },
            "type": "scatter"
           }
          ],
          "scatter3d": [
           {
            "line": {
             "colorbar": {
              "outlinewidth": 0,
              "ticks": ""
             }
            },
            "marker": {
             "colorbar": {
              "outlinewidth": 0,
              "ticks": ""
             }
            },
            "type": "scatter3d"
           }
          ],
          "scattercarpet": [
           {
            "marker": {
             "colorbar": {
              "outlinewidth": 0,
              "ticks": ""
             }
            },
            "type": "scattercarpet"
           }
          ],
          "scattergeo": [
           {
            "marker": {
             "colorbar": {
              "outlinewidth": 0,
              "ticks": ""
             }
            },
            "type": "scattergeo"
           }
          ],
          "scattergl": [
           {
            "marker": {
             "colorbar": {
              "outlinewidth": 0,
              "ticks": ""
             }
            },
            "type": "scattergl"
           }
          ],
          "scattermapbox": [
           {
            "marker": {
             "colorbar": {
              "outlinewidth": 0,
              "ticks": ""
             }
            },
            "type": "scattermapbox"
           }
          ],
          "scatterpolar": [
           {
            "marker": {
             "colorbar": {
              "outlinewidth": 0,
              "ticks": ""
             }
            },
            "type": "scatterpolar"
           }
          ],
          "scatterpolargl": [
           {
            "marker": {
             "colorbar": {
              "outlinewidth": 0,
              "ticks": ""
             }
            },
            "type": "scatterpolargl"
           }
          ],
          "scatterternary": [
           {
            "marker": {
             "colorbar": {
              "outlinewidth": 0,
              "ticks": ""
             }
            },
            "type": "scatterternary"
           }
          ],
          "surface": [
           {
            "colorbar": {
             "outlinewidth": 0,
             "ticks": ""
            },
            "colorscale": [
             [
              0,
              "#0d0887"
             ],
             [
              0.1111111111111111,
              "#46039f"
             ],
             [
              0.2222222222222222,
              "#7201a8"
             ],
             [
              0.3333333333333333,
              "#9c179e"
             ],
             [
              0.4444444444444444,
              "#bd3786"
             ],
             [
              0.5555555555555556,
              "#d8576b"
             ],
             [
              0.6666666666666666,
              "#ed7953"
             ],
             [
              0.7777777777777778,
              "#fb9f3a"
             ],
             [
              0.8888888888888888,
              "#fdca26"
             ],
             [
              1,
              "#f0f921"
             ]
            ],
            "type": "surface"
           }
          ],
          "table": [
           {
            "cells": {
             "fill": {
              "color": "#EBF0F8"
             },
             "line": {
              "color": "white"
             }
            },
            "header": {
             "fill": {
              "color": "#C8D4E3"
             },
             "line": {
              "color": "white"
             }
            },
            "type": "table"
           }
          ]
         },
         "layout": {
          "annotationdefaults": {
           "arrowcolor": "#2a3f5f",
           "arrowhead": 0,
           "arrowwidth": 1
          },
          "autotypenumbers": "strict",
          "coloraxis": {
           "colorbar": {
            "outlinewidth": 0,
            "ticks": ""
           }
          },
          "colorscale": {
           "diverging": [
            [
             0,
             "#8e0152"
            ],
            [
             0.1,
             "#c51b7d"
            ],
            [
             0.2,
             "#de77ae"
            ],
            [
             0.3,
             "#f1b6da"
            ],
            [
             0.4,
             "#fde0ef"
            ],
            [
             0.5,
             "#f7f7f7"
            ],
            [
             0.6,
             "#e6f5d0"
            ],
            [
             0.7,
             "#b8e186"
            ],
            [
             0.8,
             "#7fbc41"
            ],
            [
             0.9,
             "#4d9221"
            ],
            [
             1,
             "#276419"
            ]
           ],
           "sequential": [
            [
             0,
             "#0d0887"
            ],
            [
             0.1111111111111111,
             "#46039f"
            ],
            [
             0.2222222222222222,
             "#7201a8"
            ],
            [
             0.3333333333333333,
             "#9c179e"
            ],
            [
             0.4444444444444444,
             "#bd3786"
            ],
            [
             0.5555555555555556,
             "#d8576b"
            ],
            [
             0.6666666666666666,
             "#ed7953"
            ],
            [
             0.7777777777777778,
             "#fb9f3a"
            ],
            [
             0.8888888888888888,
             "#fdca26"
            ],
            [
             1,
             "#f0f921"
            ]
           ],
           "sequentialminus": [
            [
             0,
             "#0d0887"
            ],
            [
             0.1111111111111111,
             "#46039f"
            ],
            [
             0.2222222222222222,
             "#7201a8"
            ],
            [
             0.3333333333333333,
             "#9c179e"
            ],
            [
             0.4444444444444444,
             "#bd3786"
            ],
            [
             0.5555555555555556,
             "#d8576b"
            ],
            [
             0.6666666666666666,
             "#ed7953"
            ],
            [
             0.7777777777777778,
             "#fb9f3a"
            ],
            [
             0.8888888888888888,
             "#fdca26"
            ],
            [
             1,
             "#f0f921"
            ]
           ]
          },
          "colorway": [
           "#636efa",
           "#EF553B",
           "#00cc96",
           "#ab63fa",
           "#FFA15A",
           "#19d3f3",
           "#FF6692",
           "#B6E880",
           "#FF97FF",
           "#FECB52"
          ],
          "font": {
           "color": "#2a3f5f"
          },
          "geo": {
           "bgcolor": "white",
           "lakecolor": "white",
           "landcolor": "#E5ECF6",
           "showlakes": true,
           "showland": true,
           "subunitcolor": "white"
          },
          "hoverlabel": {
           "align": "left"
          },
          "hovermode": "closest",
          "mapbox": {
           "style": "light"
          },
          "paper_bgcolor": "white",
          "plot_bgcolor": "#E5ECF6",
          "polar": {
           "angularaxis": {
            "gridcolor": "white",
            "linecolor": "white",
            "ticks": ""
           },
           "bgcolor": "#E5ECF6",
           "radialaxis": {
            "gridcolor": "white",
            "linecolor": "white",
            "ticks": ""
           }
          },
          "scene": {
           "xaxis": {
            "backgroundcolor": "#E5ECF6",
            "gridcolor": "white",
            "gridwidth": 2,
            "linecolor": "white",
            "showbackground": true,
            "ticks": "",
            "zerolinecolor": "white"
           },
           "yaxis": {
            "backgroundcolor": "#E5ECF6",
            "gridcolor": "white",
            "gridwidth": 2,
            "linecolor": "white",
            "showbackground": true,
            "ticks": "",
            "zerolinecolor": "white"
           },
           "zaxis": {
            "backgroundcolor": "#E5ECF6",
            "gridcolor": "white",
            "gridwidth": 2,
            "linecolor": "white",
            "showbackground": true,
            "ticks": "",
            "zerolinecolor": "white"
           }
          },
          "shapedefaults": {
           "line": {
            "color": "#2a3f5f"
           }
          },
          "ternary": {
           "aaxis": {
            "gridcolor": "white",
            "linecolor": "white",
            "ticks": ""
           },
           "baxis": {
            "gridcolor": "white",
            "linecolor": "white",
            "ticks": ""
           },
           "bgcolor": "#E5ECF6",
           "caxis": {
            "gridcolor": "white",
            "linecolor": "white",
            "ticks": ""
           }
          },
          "title": {
           "x": 0.05
          },
          "xaxis": {
           "automargin": true,
           "gridcolor": "white",
           "linecolor": "white",
           "ticks": "",
           "title": {
            "standoff": 15
           },
           "zerolinecolor": "white",
           "zerolinewidth": 2
          },
          "yaxis": {
           "automargin": true,
           "gridcolor": "white",
           "linecolor": "white",
           "ticks": "",
           "title": {
            "standoff": 15
           },
           "zerolinecolor": "white",
           "zerolinewidth": 2
          }
         }
        },
        "title": {
         "text": "Temperature & Humidity vs Time"
        },
        "xaxis": {
         "anchor": "y",
         "domain": [
          0,
          0.94
         ],
         "title": {
          "text": "<b>Time H:M:S</b>"
         }
        },
        "yaxis": {
         "anchor": "x",
         "domain": [
          0,
          1
         ],
         "title": {
          "text": "<b>Temperature °C</b>"
         }
        },
        "yaxis2": {
         "anchor": "x",
         "overlaying": "y",
         "side": "right",
         "title": {
          "text": "<b>Humidity %RH</b>"
         }
        }
       }
      },
      "text/html": [
       "<div>                            <div id=\"10f401ec-12a4-4a87-a7c3-e4246fc88274\" class=\"plotly-graph-div\" style=\"height:525px; width:100%;\"></div>            <script type=\"text/javascript\">                require([\"plotly\"], function(Plotly) {                    window.PLOTLYENV=window.PLOTLYENV || {};                                    if (document.getElementById(\"10f401ec-12a4-4a87-a7c3-e4246fc88274\")) {                    Plotly.newPlot(                        \"10f401ec-12a4-4a87-a7c3-e4246fc88274\",                        [{\"name\":\"Temperature\",\"type\":\"scatter\",\"x\":[\"15:13:25\",\"15:13:27\",\"15:13:29\",\"15:13:31\",\"15:13:33\",\"15:13:35\",\"15:13:37\",\"15:13:39\",\"15:13:41\",\"15:13:43\",\"15:13:45\",\"15:13:47\",\"15:13:49\",\"15:13:51\",\"15:13:53\",\"15:13:55\",\"15:13:57\",\"15:13:59\",\"15:14:02\",\"15:14:03\",\"15:14:06\",\"15:14:08\",\"15:14:10\",\"15:14:12\",\"15:14:14\",\"15:14:16\",\"15:14:18\",\"15:14:20\",\"15:14:22\",\"15:14:24\",\"15:14:26\",\"15:14:28\",\"15:14:30\",\"15:14:32\",\"15:14:34\",\"15:14:36\",\"15:14:38\",\"15:14:40\",\"15:14:42\",\"15:14:44\",\"15:14:46\",\"15:14:48\",\"15:14:50\",\"15:14:52\",\"15:14:54\",\"15:14:56\",\"15:14:58\",\"15:15:00\",\"15:15:02\",\"15:15:04\",\"15:15:06\",\"15:15:08\",\"15:15:10\",\"15:15:12\",\"15:15:14\",\"15:15:16\",\"15:15:18\"],\"xaxis\":\"x\",\"y\":[\"19.80\",\"19.80\",\"20.00\",\"20.00\",\"20.10\",\"20.10\",\"20.10\",\"20.10\",\"20.20\",\"20.20\",\"20.20\",\"20.30\",\"20.30\",\"20.40\",\"20.40\",\"20.40\",\"20.50\",\"20.50\",\"20.50\",\"20.60\",\"20.60\",\"20.60\",\"20.60\",\"20.70\",\"20.70\",\"20.70\",\"20.80\",\"20.80\",\"20.90\",\"20.90\",\"21.00\",\"21.00\",\"21.00\",\"21.00\",\"21.10\",\"21.10\",\"21.10\",\"21.10\",\"21.10\",\"21.10\",\"21.10\",\"21.20\",\"21.20\",\"21.20\",\"21.20\",\"21.10\",\"21.20\",\"21.10\",\"21.20\",\"21.10\",\"21.20\",\"21.10\",\"21.20\",\"21.20\",\"21.20\",\"21.20\",\"21.20\"],\"yaxis\":\"y\"},{\"name\":\"Humidity\",\"type\":\"scatter\",\"x\":[\"15:13:25\",\"15:13:27\",\"15:13:29\",\"15:13:31\",\"15:13:33\",\"15:13:35\",\"15:13:37\",\"15:13:39\",\"15:13:41\",\"15:13:43\",\"15:13:45\",\"15:13:47\",\"15:13:49\",\"15:13:51\",\"15:13:53\",\"15:13:55\",\"15:13:57\",\"15:13:59\",\"15:14:02\",\"15:14:03\",\"15:14:06\",\"15:14:08\",\"15:14:10\",\"15:14:12\",\"15:14:14\",\"15:14:16\",\"15:14:18\",\"15:14:20\",\"15:14:22\",\"15:14:24\",\"15:14:26\",\"15:14:28\",\"15:14:30\",\"15:14:32\",\"15:14:34\",\"15:14:36\",\"15:14:38\",\"15:14:40\",\"15:14:42\",\"15:14:44\",\"15:14:46\",\"15:14:48\",\"15:14:50\",\"15:14:52\",\"15:14:54\",\"15:14:56\",\"15:14:58\",\"15:15:00\",\"15:15:02\",\"15:15:04\",\"15:15:06\",\"15:15:08\",\"15:15:10\",\"15:15:12\",\"15:15:14\",\"15:15:16\",\"15:15:18\"],\"xaxis\":\"x\",\"y\":[\"54.10\",\"54.00\",\"53.80\",\"53.50\",\"53.20\",\"52.70\",\"52.20\",\"51.90\",\"51.50\",\"51.20\",\"50.90\",\"50.70\",\"50.50\",\"50.40\",\"50.40\",\"50.40\",\"50.40\",\"50.50\",\"50.50\",\"50.50\",\"50.40\",\"50.70\",\"51.30\",\"52.30\",\"53.10\",\"54.00\",\"54.90\",\"55.80\",\"56.40\",\"56.50\",\"56.60\",\"56.30\",\"55.20\",\"54.40\",\"53.70\",\"53.30\",\"52.60\",\"52.20\",\"51.50\",\"51.00\",\"50.60\",\"50.20\",\"49.80\",\"49.50\",\"49.20\",\"49.00\",\"48.70\",\"48.50\",\"48.30\",\"48.20\",\"48.00\",\"47.90\",\"47.80\",\"47.70\",\"47.70\",\"47.60\",\"47.50\"],\"yaxis\":\"y2\"}],                        {\"template\":{\"data\":{\"bar\":[{\"error_x\":{\"color\":\"#2a3f5f\"},\"error_y\":{\"color\":\"#2a3f5f\"},\"marker\":{\"line\":{\"color\":\"#E5ECF6\",\"width\":0.5},\"pattern\":{\"fillmode\":\"overlay\",\"size\":10,\"solidity\":0.2}},\"type\":\"bar\"}],\"barpolar\":[{\"marker\":{\"line\":{\"color\":\"#E5ECF6\",\"width\":0.5},\"pattern\":{\"fillmode\":\"overlay\",\"size\":10,\"solidity\":0.2}},\"type\":\"barpolar\"}],\"carpet\":[{\"aaxis\":{\"endlinecolor\":\"#2a3f5f\",\"gridcolor\":\"white\",\"linecolor\":\"white\",\"minorgridcolor\":\"white\",\"startlinecolor\":\"#2a3f5f\"},\"baxis\":{\"endlinecolor\":\"#2a3f5f\",\"gridcolor\":\"white\",\"linecolor\":\"white\",\"minorgridcolor\":\"white\",\"startlinecolor\":\"#2a3f5f\"},\"type\":\"carpet\"}],\"choropleth\":[{\"colorbar\":{\"outlinewidth\":0,\"ticks\":\"\"},\"type\":\"choropleth\"}],\"contour\":[{\"colorbar\":{\"outlinewidth\":0,\"ticks\":\"\"},\"colorscale\":[[0.0,\"#0d0887\"],[0.1111111111111111,\"#46039f\"],[0.2222222222222222,\"#7201a8\"],[0.3333333333333333,\"#9c179e\"],[0.4444444444444444,\"#bd3786\"],[0.5555555555555556,\"#d8576b\"],[0.6666666666666666,\"#ed7953\"],[0.7777777777777778,\"#fb9f3a\"],[0.8888888888888888,\"#fdca26\"],[1.0,\"#f0f921\"]],\"type\":\"contour\"}],\"contourcarpet\":[{\"colorbar\":{\"outlinewidth\":0,\"ticks\":\"\"},\"type\":\"contourcarpet\"}],\"heatmap\":[{\"colorbar\":{\"outlinewidth\":0,\"ticks\":\"\"},\"colorscale\":[[0.0,\"#0d0887\"],[0.1111111111111111,\"#46039f\"],[0.2222222222222222,\"#7201a8\"],[0.3333333333333333,\"#9c179e\"],[0.4444444444444444,\"#bd3786\"],[0.5555555555555556,\"#d8576b\"],[0.6666666666666666,\"#ed7953\"],[0.7777777777777778,\"#fb9f3a\"],[0.8888888888888888,\"#fdca26\"],[1.0,\"#f0f921\"]],\"type\":\"heatmap\"}],\"heatmapgl\":[{\"colorbar\":{\"outlinewidth\":0,\"ticks\":\"\"},\"colorscale\":[[0.0,\"#0d0887\"],[0.1111111111111111,\"#46039f\"],[0.2222222222222222,\"#7201a8\"],[0.3333333333333333,\"#9c179e\"],[0.4444444444444444,\"#bd3786\"],[0.5555555555555556,\"#d8576b\"],[0.6666666666666666,\"#ed7953\"],[0.7777777777777778,\"#fb9f3a\"],[0.8888888888888888,\"#fdca26\"],[1.0,\"#f0f921\"]],\"type\":\"heatmapgl\"}],\"histogram\":[{\"marker\":{\"pattern\":{\"fillmode\":\"overlay\",\"size\":10,\"solidity\":0.2}},\"type\":\"histogram\"}],\"histogram2d\":[{\"colorbar\":{\"outlinewidth\":0,\"ticks\":\"\"},\"colorscale\":[[0.0,\"#0d0887\"],[0.1111111111111111,\"#46039f\"],[0.2222222222222222,\"#7201a8\"],[0.3333333333333333,\"#9c179e\"],[0.4444444444444444,\"#bd3786\"],[0.5555555555555556,\"#d8576b\"],[0.6666666666666666,\"#ed7953\"],[0.7777777777777778,\"#fb9f3a\"],[0.8888888888888888,\"#fdca26\"],[1.0,\"#f0f921\"]],\"type\":\"histogram2d\"}],\"histogram2dcontour\":[{\"colorbar\":{\"outlinewidth\":0,\"ticks\":\"\"},\"colorscale\":[[0.0,\"#0d0887\"],[0.1111111111111111,\"#46039f\"],[0.2222222222222222,\"#7201a8\"],[0.3333333333333333,\"#9c179e\"],[0.4444444444444444,\"#bd3786\"],[0.5555555555555556,\"#d8576b\"],[0.6666666666666666,\"#ed7953\"],[0.7777777777777778,\"#fb9f3a\"],[0.8888888888888888,\"#fdca26\"],[1.0,\"#f0f921\"]],\"type\":\"histogram2dcontour\"}],\"mesh3d\":[{\"colorbar\":{\"outlinewidth\":0,\"ticks\":\"\"},\"type\":\"mesh3d\"}],\"parcoords\":[{\"line\":{\"colorbar\":{\"outlinewidth\":0,\"ticks\":\"\"}},\"type\":\"parcoords\"}],\"pie\":[{\"automargin\":true,\"type\":\"pie\"}],\"scatter\":[{\"marker\":{\"colorbar\":{\"outlinewidth\":0,\"ticks\":\"\"}},\"type\":\"scatter\"}],\"scatter3d\":[{\"line\":{\"colorbar\":{\"outlinewidth\":0,\"ticks\":\"\"}},\"marker\":{\"colorbar\":{\"outlinewidth\":0,\"ticks\":\"\"}},\"type\":\"scatter3d\"}],\"scattercarpet\":[{\"marker\":{\"colorbar\":{\"outlinewidth\":0,\"ticks\":\"\"}},\"type\":\"scattercarpet\"}],\"scattergeo\":[{\"marker\":{\"colorbar\":{\"outlinewidth\":0,\"ticks\":\"\"}},\"type\":\"scattergeo\"}],\"scattergl\":[{\"marker\":{\"colorbar\":{\"outlinewidth\":0,\"ticks\":\"\"}},\"type\":\"scattergl\"}],\"scattermapbox\":[{\"marker\":{\"colorbar\":{\"outlinewidth\":0,\"ticks\":\"\"}},\"type\":\"scattermapbox\"}],\"scatterpolar\":[{\"marker\":{\"colorbar\":{\"outlinewidth\":0,\"ticks\":\"\"}},\"type\":\"scatterpolar\"}],\"scatterpolargl\":[{\"marker\":{\"colorbar\":{\"outlinewidth\":0,\"ticks\":\"\"}},\"type\":\"scatterpolargl\"}],\"scatterternary\":[{\"marker\":{\"colorbar\":{\"outlinewidth\":0,\"ticks\":\"\"}},\"type\":\"scatterternary\"}],\"surface\":[{\"colorbar\":{\"outlinewidth\":0,\"ticks\":\"\"},\"colorscale\":[[0.0,\"#0d0887\"],[0.1111111111111111,\"#46039f\"],[0.2222222222222222,\"#7201a8\"],[0.3333333333333333,\"#9c179e\"],[0.4444444444444444,\"#bd3786\"],[0.5555555555555556,\"#d8576b\"],[0.6666666666666666,\"#ed7953\"],[0.7777777777777778,\"#fb9f3a\"],[0.8888888888888888,\"#fdca26\"],[1.0,\"#f0f921\"]],\"type\":\"surface\"}],\"table\":[{\"cells\":{\"fill\":{\"color\":\"#EBF0F8\"},\"line\":{\"color\":\"white\"}},\"header\":{\"fill\":{\"color\":\"#C8D4E3\"},\"line\":{\"color\":\"white\"}},\"type\":\"table\"}]},\"layout\":{\"annotationdefaults\":{\"arrowcolor\":\"#2a3f5f\",\"arrowhead\":0,\"arrowwidth\":1},\"autotypenumbers\":\"strict\",\"coloraxis\":{\"colorbar\":{\"outlinewidth\":0,\"ticks\":\"\"}},\"colorscale\":{\"diverging\":[[0,\"#8e0152\"],[0.1,\"#c51b7d\"],[0.2,\"#de77ae\"],[0.3,\"#f1b6da\"],[0.4,\"#fde0ef\"],[0.5,\"#f7f7f7\"],[0.6,\"#e6f5d0\"],[0.7,\"#b8e186\"],[0.8,\"#7fbc41\"],[0.9,\"#4d9221\"],[1,\"#276419\"]],\"sequential\":[[0.0,\"#0d0887\"],[0.1111111111111111,\"#46039f\"],[0.2222222222222222,\"#7201a8\"],[0.3333333333333333,\"#9c179e\"],[0.4444444444444444,\"#bd3786\"],[0.5555555555555556,\"#d8576b\"],[0.6666666666666666,\"#ed7953\"],[0.7777777777777778,\"#fb9f3a\"],[0.8888888888888888,\"#fdca26\"],[1.0,\"#f0f921\"]],\"sequentialminus\":[[0.0,\"#0d0887\"],[0.1111111111111111,\"#46039f\"],[0.2222222222222222,\"#7201a8\"],[0.3333333333333333,\"#9c179e\"],[0.4444444444444444,\"#bd3786\"],[0.5555555555555556,\"#d8576b\"],[0.6666666666666666,\"#ed7953\"],[0.7777777777777778,\"#fb9f3a\"],[0.8888888888888888,\"#fdca26\"],[1.0,\"#f0f921\"]]},\"colorway\":[\"#636efa\",\"#EF553B\",\"#00cc96\",\"#ab63fa\",\"#FFA15A\",\"#19d3f3\",\"#FF6692\",\"#B6E880\",\"#FF97FF\",\"#FECB52\"],\"font\":{\"color\":\"#2a3f5f\"},\"geo\":{\"bgcolor\":\"white\",\"lakecolor\":\"white\",\"landcolor\":\"#E5ECF6\",\"showlakes\":true,\"showland\":true,\"subunitcolor\":\"white\"},\"hoverlabel\":{\"align\":\"left\"},\"hovermode\":\"closest\",\"mapbox\":{\"style\":\"light\"},\"paper_bgcolor\":\"white\",\"plot_bgcolor\":\"#E5ECF6\",\"polar\":{\"angularaxis\":{\"gridcolor\":\"white\",\"linecolor\":\"white\",\"ticks\":\"\"},\"bgcolor\":\"#E5ECF6\",\"radialaxis\":{\"gridcolor\":\"white\",\"linecolor\":\"white\",\"ticks\":\"\"}},\"scene\":{\"xaxis\":{\"backgroundcolor\":\"#E5ECF6\",\"gridcolor\":\"white\",\"gridwidth\":2,\"linecolor\":\"white\",\"showbackground\":true,\"ticks\":\"\",\"zerolinecolor\":\"white\"},\"yaxis\":{\"backgroundcolor\":\"#E5ECF6\",\"gridcolor\":\"white\",\"gridwidth\":2,\"linecolor\":\"white\",\"showbackground\":true,\"ticks\":\"\",\"zerolinecolor\":\"white\"},\"zaxis\":{\"backgroundcolor\":\"#E5ECF6\",\"gridcolor\":\"white\",\"gridwidth\":2,\"linecolor\":\"white\",\"showbackground\":true,\"ticks\":\"\",\"zerolinecolor\":\"white\"}},\"shapedefaults\":{\"line\":{\"color\":\"#2a3f5f\"}},\"ternary\":{\"aaxis\":{\"gridcolor\":\"white\",\"linecolor\":\"white\",\"ticks\":\"\"},\"baxis\":{\"gridcolor\":\"white\",\"linecolor\":\"white\",\"ticks\":\"\"},\"bgcolor\":\"#E5ECF6\",\"caxis\":{\"gridcolor\":\"white\",\"linecolor\":\"white\",\"ticks\":\"\"}},\"title\":{\"x\":0.05},\"xaxis\":{\"automargin\":true,\"gridcolor\":\"white\",\"linecolor\":\"white\",\"ticks\":\"\",\"title\":{\"standoff\":15},\"zerolinecolor\":\"white\",\"zerolinewidth\":2},\"yaxis\":{\"automargin\":true,\"gridcolor\":\"white\",\"linecolor\":\"white\",\"ticks\":\"\",\"title\":{\"standoff\":15},\"zerolinecolor\":\"white\",\"zerolinewidth\":2}}},\"title\":{\"text\":\"Temperature & Humidity vs Time\"},\"xaxis\":{\"anchor\":\"y\",\"domain\":[0.0,0.94],\"title\":{\"text\":\"<b>Time H:M:S</b>\"}},\"yaxis\":{\"anchor\":\"x\",\"domain\":[0.0,1.0],\"title\":{\"text\":\"<b>Temperature \\u00b0C</b>\"}},\"yaxis2\":{\"anchor\":\"x\",\"overlaying\":\"y\",\"side\":\"right\",\"title\":{\"text\":\"<b>Humidity %RH</b>\"}}},                        {\"responsive\": true}                    ).then(function(){\n",
       "                            \n",
       "var gd = document.getElementById('10f401ec-12a4-4a87-a7c3-e4246fc88274');\n",
       "var x = new MutationObserver(function (mutations, observer) {{\n",
       "        var display = window.getComputedStyle(gd).display;\n",
       "        if (!display || display === 'none') {{\n",
       "            console.log([gd, 'removed!']);\n",
       "            Plotly.purge(gd);\n",
       "            observer.disconnect();\n",
       "        }}\n",
       "}});\n",
       "\n",
       "// Listen for the removal of the full notebook cells\n",
       "var notebookContainer = gd.closest('#notebook-container');\n",
       "if (notebookContainer) {{\n",
       "    x.observe(notebookContainer, {childList: true});\n",
       "}}\n",
       "\n",
       "// Listen for the clearing of the current output cell\n",
       "var outputEl = gd.closest('.output');\n",
       "if (outputEl) {{\n",
       "    x.observe(outputEl, {childList: true});\n",
       "}}\n",
       "\n",
       "                        })                };                });            </script>        </div>"
      ]
     },
     "metadata": {},
     "output_type": "display_data"
    }
   ],
   "source": [
    "# Add figure title\n",
    "fig.update_layout(\n",
    "    title_text=\"Temperature & Humidity vs Time\"\n",
    ")\n",
    "\n",
    "# Set x-axis title\n",
    "fig.update_xaxes(title_text=\"<b>Time H:M:S</b>\")\n",
    "\n",
    "# Set y-axes titles\n",
    "fig.update_yaxes(title_text=\"<b>Temperature °C</b>\", secondary_y=False)\n",
    "fig.update_yaxes(title_text=\"<b>Humidity %RH</b>\", secondary_y=True)\n"
   ]
  },
  {
   "cell_type": "code",
   "execution_count": 143,
   "id": "1888b4a5",
   "metadata": {},
   "outputs": [
    {
     "data": {
      "text/plain": [
       "'https://plotly.com/~jroussis/7/'"
      ]
     },
     "execution_count": 143,
     "metadata": {},
     "output_type": "execute_result"
    }
   ],
   "source": [
    "py.plot(fig, filename = 'Temperature & Humidity vs Time', auto_open=True)                  "
   ]
  }
 ],
 "metadata": {
  "kernelspec": {
   "display_name": "Python 3",
   "language": "python",
   "name": "python3"
  },
  "language_info": {
   "codemirror_mode": {
    "name": "ipython",
    "version": 3
   },
   "file_extension": ".py",
   "mimetype": "text/x-python",
   "name": "python",
   "nbconvert_exporter": "python",
   "pygments_lexer": "ipython3",
   "version": "3.8.8"
  }
 },
 "nbformat": 4,
 "nbformat_minor": 5
}
